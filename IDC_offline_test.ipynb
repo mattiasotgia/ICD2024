{
 "cells": [
  {
   "cell_type": "markdown",
   "id": "ed88a064-f49b-4ecf-b3e1-5ffe297ad92e",
   "metadata": {},
   "source": [
    "# International Cosmic Day 2024\n",
    "\n",
    "Per prima cosa, impareremo come eseguire il codice che è presente in questo ambiente. Quando dovete eseguire una cella di codice (ovvero un blocco grigio, come quello qua sotto, dovete premere sulla freccia che trovate in alto nella barra sopra, $\\vartriangleright$. Questo `eseguirà` il codice nella cella. Il primo blocco, quello subito qua sotto, è importante per fare il setup dell'ambiente di sviluppo, e __deve essere eseguito solo una volta  all'inizio__. Questo caricherà tutto il codice necessario alla presa dati e alla successiva analisi."
   ]
  },
  {
   "cell_type": "code",
   "execution_count": null,
   "id": "04c6f9c8-7b12-458b-b4ef-cae18d81d72b",
   "metadata": {},
   "outputs": [],
   "source": [
    "from icd import hist, angle"
   ]
  },
  {
   "cell_type": "markdown",
   "id": "a99fbeac-95a2-4a51-8a34-b2734c1ef644",
   "metadata": {},
   "source": [
    "## Verifica delle distribuzioni delle misure\n",
    "\n",
    "Ci aspettiamo che le misure dei conteggi siano delle distribuzioni di Poisson. Verifichiamolo!\n",
    "\n",
    "La cella successiva può essere _eseguita_ a patto di avere eseguito la prima cella. Per eseguire la cella come prima dovrete premere sul tasto relativo all'esecuzione del codice, assicurandovi che la cella sia selezionata (se è selezionata è circondata da un <span style=\"color:DodgerBlue\">bordo blu</span> e una <span style=\"color:DodgerBlue\">barra blu</span> sul lato)."
   ]
  },
  {
   "cell_type": "code",
   "execution_count": null,
   "id": "d566ea1f-7652-4e88-ba43-0ef22f0e6e6d",
   "metadata": {},
   "outputs": [],
   "source": [
    "hist()"
   ]
  },
  {
   "cell_type": "markdown",
   "id": "a33bcb5d-a426-4d40-a4b0-fdb833b7cb6e",
   "metadata": {},
   "source": [
    "## Presa dati e analisi dati\n",
    "\n",
    "Ora possiamo raccogliere i dati relativi alla distribuzione angolare dei conteggi di $\\mu$.\n",
    "\n",
    "La cella successiva può essere _eseguita_ a patto di avere eseguito la prima cella. Per eseguire la cella come prima dovrete premere sul tasto relativo all'esecuzione del codice, assicurandovi che la cella sia selezionata (se è selezionata è circondata da un <span style=\"color:DodgerBlue\">bordo blu</span> e una <span style=\"color:DodgerBlue\">barra blu</span> sul lato)."
   ]
  },
  {
   "cell_type": "code",
   "execution_count": null,
   "id": "1d692717-3c99-442c-9327-f073f10f81d0",
   "metadata": {},
   "outputs": [],
   "source": [
    "angle()"
   ]
  },
  {
   "cell_type": "code",
   "execution_count": null,
   "id": "50675f70-61b6-4caa-97bb-89e35fdcf23f",
   "metadata": {},
   "outputs": [],
   "source": [
    "\n"
   ]
  },
  {
   "cell_type": "code",
   "execution_count": null,
   "id": "74a147ca-5d88-49f7-a74a-aa3777e000d0",
   "metadata": {},
   "outputs": [],
   "source": []
  }
 ],
 "metadata": {
  "kernelspec": {
   "display_name": "Python 3 (ipykernel)",
   "language": "python",
   "name": "python3"
  },
  "language_info": {
   "codemirror_mode": {
    "name": "ipython",
    "version": 3
   },
   "file_extension": ".py",
   "mimetype": "text/x-python",
   "name": "python",
   "nbconvert_exporter": "python",
   "pygments_lexer": "ipython3",
   "version": "3.13.0"
  }
 },
 "nbformat": 4,
 "nbformat_minor": 5
}
